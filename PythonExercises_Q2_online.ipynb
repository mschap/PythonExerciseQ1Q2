{
 "cells": [
  {
   "cell_type": "code",
   "execution_count": 1,
   "id": "7261aa86-c800-47b5-b44a-54ffaa09af6f",
   "metadata": {},
   "outputs": [],
   "source": [
    "# Version to run at: https://jupyter.org/try-jupyter/lab/\n",
    "# direct import of csv data to pandas data frame didn't work\n",
    "# This version uses the \"manual\" workaround"
   ]
  },
  {
   "cell_type": "code",
   "execution_count": 16,
   "id": "3e7aaa1a-7764-45cc-b7cb-9b375f95a2dd",
   "metadata": {},
   "outputs": [],
   "source": [
    "import pandas as pd\n",
    "import requests\n",
    "import urllib3\n",
    "urllib3.disable_warnings()\n",
    "from io import StringIO"
   ]
  },
  {
   "cell_type": "code",
   "execution_count": 3,
   "id": "87222835-fcd6-4a61-823f-62bd9f6e8c7e",
   "metadata": {},
   "outputs": [
    {
     "name": "stdout",
     "output_type": "stream",
     "text": [
      "Name,Population,Area,GDP,Currency\n",
      "Germany,82521653,357385,3466,EUR\n",
      "Japan,126045000,377835,4938,YEN\n",
      "Canada,36503097,9984670,1529,CAD\n",
      "Italy,60501718,301338,1850,EUR\n",
      "Brazilia,208360000,8515770,1798,REAL\n",
      "Taiwan,23938272,36197,744,NTD\n",
      "Venezuela, 28208977,912050,,VED\n"
     ]
    }
   ],
   "source": [
    "url = \"https://raw.githubusercontent.com/WHPAN0108/BHT-DataScience-S23/main/python-DS/country.csv\"\n",
    "response = requests.get(url)\n",
    "\n",
    "# Check if the request was successful (status code 200)\n",
    "if response.status_code == 200:\n",
    "    # Print the response content (data)\n",
    "    print(response.text)\n",
    "else:\n",
    "    print(\"Failed to fetch data. Status code:\", response.status_code)\n"
   ]
  },
  {
   "cell_type": "code",
   "execution_count": 4,
   "id": "c288aee0-cd6c-4cb4-8212-8fcb607f6bb5",
   "metadata": {},
   "outputs": [
    {
     "name": "stdout",
     "output_type": "stream",
     "text": [
      "        Name  Population     Area     GDP Currency\n",
      "0    Germany    82521653   357385  3466.0      EUR\n",
      "1      Japan   126045000   377835  4938.0      YEN\n",
      "2     Canada    36503097  9984670  1529.0      CAD\n",
      "3      Italy    60501718   301338  1850.0      EUR\n",
      "4   Brazilia   208360000  8515770  1798.0     REAL\n",
      "5     Taiwan    23938272    36197   744.0      NTD\n",
      "6  Venezuela    28208977   912050     NaN      VED\n"
     ]
    }
   ],
   "source": [
    "csv_data = StringIO(response.text)\n",
    "df = pd.read_csv(csv_data)\n",
    "print(df)"
   ]
  },
  {
   "cell_type": "code",
   "execution_count": 5,
   "id": "c5037b0d-69af-47a3-a247-5ca6a0dc9ace",
   "metadata": {},
   "outputs": [
    {
     "name": "stdout",
     "output_type": "stream",
     "text": [
      "\n",
      "describe Population\n",
      "count    7.000000e+00\n",
      "mean     8.086839e+07\n",
      "std      6.670195e+07\n",
      "min      2.393827e+07\n",
      "25%      3.235604e+07\n",
      "50%      6.050172e+07\n",
      "75%      1.042833e+08\n",
      "max      2.083600e+08\n",
      "Name: Population, dtype: float64\n",
      "\n",
      "describe Area\n",
      "count    7.000000e+00\n",
      "mean     2.926464e+06\n",
      "std      4.348507e+06\n",
      "min      3.619700e+04\n",
      "25%      3.293615e+05\n",
      "50%      3.778350e+05\n",
      "75%      4.713910e+06\n",
      "max      9.984670e+06\n",
      "Name: Area, dtype: float64\n",
      "\n",
      "describe GDP\n",
      "count       6.000000\n",
      "mean     2387.500000\n",
      "std      1532.497537\n",
      "min       744.000000\n",
      "25%      1596.250000\n",
      "50%      1824.000000\n",
      "75%      3062.000000\n",
      "max      4938.000000\n",
      "Name: GDP, dtype: float64\n"
     ]
    }
   ],
   "source": [
    "# Display descriptive statistics for the numerical column (count, mean, std, min, 25%, 50%, 75%, max) HINT: describe\n",
    "print(\"\\ndescribe Population\")\n",
    "print(df['Population'].describe())\n",
    "\n",
    "print(\"\\ndescribe Area\")\n",
    "print(df['Area'].describe())\n",
    "\n",
    "print(\"\\ndescribe GDP\")\n",
    "print(df['GDP'].describe())"
   ]
  },
  {
   "cell_type": "code",
   "execution_count": 6,
   "id": "83e75fff-e3ac-44ef-b779-7bbd6ee0e9ec",
   "metadata": {},
   "outputs": [
    {
     "name": "stdout",
     "output_type": "stream",
     "text": [
      "        Name  Population     Area     GDP Currency\n",
      "3      Italy    60501718   301338  1850.0      EUR\n",
      "4   Brazilia   208360000  8515770  1798.0     REAL\n",
      "5     Taiwan    23938272    36197   744.0      NTD\n",
      "6  Venezuela    28208977   912050     NaN      VED\n"
     ]
    }
   ],
   "source": [
    "# Show the last 4 rows of the data frame.\n",
    "print(df[-4:])"
   ]
  },
  {
   "cell_type": "code",
   "execution_count": 7,
   "id": "6015e228-78a5-4115-a3c3-6f7aed70eea0",
   "metadata": {},
   "outputs": [
    {
     "name": "stdout",
     "output_type": "stream",
     "text": [
      "      Name  Population    Area     GDP Currency\n",
      "0  Germany    82521653  357385  3466.0      EUR\n",
      "3    Italy    60501718  301338  1850.0      EUR\n"
     ]
    }
   ],
   "source": [
    "# Show all the rows of countries that have the EURO\n",
    "res = df[df['Currency'] == \"EUR\"]\n",
    "print(res)"
   ]
  },
  {
   "cell_type": "code",
   "execution_count": 8,
   "id": "602f19a3-5f72-46b5-9062-1ebbe07c2ef1",
   "metadata": {},
   "outputs": [
    {
     "name": "stdout",
     "output_type": "stream",
     "text": [
      "        Name Currency\n",
      "0    Germany      EUR\n",
      "1      Japan      YEN\n",
      "2     Canada      CAD\n",
      "3      Italy      EUR\n",
      "4   Brazilia     REAL\n",
      "5     Taiwan      NTD\n",
      "6  Venezuela      VED\n"
     ]
    }
   ],
   "source": [
    "# Show only name and Currency in a new data frame\n",
    "df2 = df[['Name','Currency']]\n",
    "print(df2)"
   ]
  },
  {
   "cell_type": "code",
   "execution_count": 9,
   "id": "edf39a84-e57f-42f2-8058-33ec73898920",
   "metadata": {},
   "outputs": [
    {
     "name": "stdout",
     "output_type": "stream",
     "text": [
      "Selected rows\n",
      "      Name  Population    Area     GDP Currency\n",
      "0  Germany    82521653  357385  3466.0      EUR\n",
      "1    Japan   126045000  377835  4938.0      YEN\n",
      "\n",
      "Only Name-column selected\n",
      "      Name\n",
      "0  Germany\n",
      "1    Japan\n"
     ]
    }
   ],
   "source": [
    "# Show only the rows/countries that have more than 2000 GDP (it is in Milliarden USD Bruttoinlandsprodukt)\n",
    "# rows\n",
    "print(\"Selected rows\")\n",
    "res2 = df[df['GDP'] > 2000.0]\n",
    "print(res2)\n",
    "\n",
    "# Only Names\n",
    "print(\"\\nOnly Name-column selected\")\n",
    "res3 = df.loc[df['GDP'] > 2000.0, ['Name']]\n",
    "print(res3)"
   ]
  },
  {
   "cell_type": "code",
   "execution_count": 10,
   "id": "a1796850-e704-4daa-be21-1cda5e775ffe",
   "metadata": {},
   "outputs": [
    {
     "name": "stdout",
     "output_type": "stream",
     "text": [
      "      Name  Population    Area     GDP Currency\n",
      "0  Germany    82521653  357385  3466.0      EUR\n",
      "1    Japan   126045000  377835  4938.0      YEN\n",
      "3    Italy    60501718  301338  1850.0      EUR\n"
     ]
    }
   ],
   "source": [
    "# Select all countries where with inhabitants between 50 and 150 Mio\n",
    "res4 = df[(df['Population'] >= 50000000) & (df['Population'] <= 150000000)]\n",
    "print(res4)"
   ]
  },
  {
   "cell_type": "code",
   "execution_count": 11,
   "id": "ff02853a-25a9-46b7-9113-46fe4e050f54",
   "metadata": {},
   "outputs": [
    {
     "name": "stdout",
     "output_type": "stream",
     "text": [
      "2387.5\n"
     ]
    }
   ],
   "source": [
    "# Calculate the GDP average (ignore the missing value)\n",
    "average_gdp = df['GDP'].mean()\n",
    "print(average_gdp)"
   ]
  },
  {
   "cell_type": "code",
   "execution_count": 12,
   "id": "f8065a1a-ad51-4be8-b8c0-943956a7682f",
   "metadata": {},
   "outputs": [
    {
     "name": "stdout",
     "output_type": "stream",
     "text": [
      "2046.4285714285713\n"
     ]
    }
   ],
   "source": [
    "# Calculate the GDP average (missing value treated as 0)\n",
    "df3 = df['GDP'].fillna(0)\n",
    "average_gdp_with_0 = df3.mean()\n",
    "print(average_gdp_with_0)"
   ]
  },
  {
   "cell_type": "code",
   "execution_count": 13,
   "id": "4e3feb2f-617b-4dc7-ab9a-535244012f63",
   "metadata": {},
   "outputs": [
    {
     "name": "stdout",
     "output_type": "stream",
     "text": [
      "        Name  Population     Area     GDP Currency  populationdensity\n",
      "0    Germany    82521653   357385  3466.0      EUR         230.904075\n",
      "1      Japan   126045000   377835  4938.0      YEN         333.597999\n",
      "2     Canada    36503097  9984670  1529.0      CAD           3.655914\n",
      "3      Italy    60501718   301338  1850.0      EUR         200.776928\n",
      "4   Brazilia   208360000  8515770  1798.0     REAL          24.467547\n",
      "5     Taiwan    23938272    36197   744.0      NTD         661.333039\n",
      "6  Venezuela    28208977   912050     NaN      VED          30.929200\n"
     ]
    }
   ],
   "source": [
    "# Calculate the population density (population/area)  of all countries and add as new column\n",
    "df['populationdensity'] = df['Population']/df['Area']\n",
    "print(df)"
   ]
  },
  {
   "cell_type": "code",
   "execution_count": 14,
   "id": "d9fff4a7-7d3a-4029-88f6-7ab665059448",
   "metadata": {},
   "outputs": [
    {
     "name": "stdout",
     "output_type": "stream",
     "text": [
      "        Name  Population     Area     GDP Currency  populationdensity\n",
      "4   Brazilia   208360000  8515770  1798.0     REAL          24.467547\n",
      "2     Canada    36503097  9984670  1529.0      CAD           3.655914\n",
      "0    Germany    82521653   357385  3466.0      EUR         230.904075\n",
      "3      Italy    60501718   301338  1850.0      EUR         200.776928\n",
      "1      Japan   126045000   377835  4938.0      YEN         333.597999\n",
      "5     Taiwan    23938272    36197   744.0      NTD         661.333039\n",
      "6  Venezuela    28208977   912050     NaN      VED          30.929200\n"
     ]
    }
   ],
   "source": [
    "# Sort by country name alphabetically\n",
    "df_sorted = df.sort_values(by='Name')\n",
    "print(df_sorted)"
   ]
  },
  {
   "cell_type": "code",
   "execution_count": 15,
   "id": "10bafc06-5d26-4f4e-9138-adb97d43bf54",
   "metadata": {},
   "outputs": [
    {
     "name": "stdout",
     "output_type": "stream",
     "text": [
      "        Name  Population   Area     GDP Currency  populationdensity\n",
      "0    Germany    82521653  SMALL  3466.0      EUR         230.904075\n",
      "1      Japan   126045000  SMALL  4938.0      YEN         333.597999\n",
      "2     Canada    36503097    BIG  1529.0      CAD           3.655914\n",
      "3      Italy    60501718  SMALL  1850.0      EUR         200.776928\n",
      "4   Brazilia   208360000    BIG  1798.0     REAL          24.467547\n",
      "5     Taiwan    23938272  SMALL   744.0      NTD         661.333039\n",
      "6  Venezuela    28208977  SMALL     NaN      VED          30.929200\n"
     ]
    }
   ],
   "source": [
    "# Create a new data frame from the original where the area is changed: all countries with > 1000000 get BIG and <= 1000000 get SMALL in the cell replaced!\n",
    "dfarea = df.copy()\n",
    "dfarea['Area'] = ['BIG' if Area > 1000000 else 'SMALL' for Area in dfarea['Area']]\n",
    "print(dfarea)"
   ]
  }
 ],
 "metadata": {
  "kernelspec": {
   "display_name": "Python 3 (ipykernel)",
   "language": "python",
   "name": "python3"
  },
  "language_info": {
   "codemirror_mode": {
    "name": "ipython",
    "version": 3
   },
   "file_extension": ".py",
   "mimetype": "text/x-python",
   "name": "python",
   "nbconvert_exporter": "python",
   "pygments_lexer": "ipython3",
   "version": "3.11.6"
  }
 },
 "nbformat": 4,
 "nbformat_minor": 5
}
